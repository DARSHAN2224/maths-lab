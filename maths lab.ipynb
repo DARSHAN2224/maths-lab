{
 "cells": [
  {
   "cell_type": "markdown",
   "id": "beb9d12c",
   "metadata": {},
   "source": [
    "<h1>1) a) Write the Python code and Execute the program to find gradient of 𝑥 <sup>2</sup> 𝑦𝑧 </h1>\n"
   ]
  },
  {
   "cell_type": "code",
   "execution_count": 2,
   "id": "274efa60",
   "metadata": {},
   "outputs": [
    {
     "name": "stdout",
     "output_type": "stream",
     "text": [
      "the give scalar point function is \n",
      "\n"
     ]
    },
    {
     "data": {
      "text/latex": [
       "$\\displaystyle \\mathbf{{x}_{}}^{2} \\mathbf{{y}_{}} \\mathbf{{z}_{}}$"
      ],
      "text/plain": [
       ".x**2*.y*.z"
      ]
     },
     "metadata": {},
     "output_type": "display_data"
    },
    {
     "data": {
      "text/latex": [
       "$\\displaystyle \\left(\\frac{\\partial}{\\partial \\mathbf{{x}_{}}} \\mathbf{{x}_{}}^{2} \\mathbf{{y}_{}} \\mathbf{{z}_{}}\\right)\\mathbf{\\hat{i}_{}} + \\left(\\frac{\\partial}{\\partial \\mathbf{{y}_{}}} \\mathbf{{x}_{}}^{2} \\mathbf{{y}_{}} \\mathbf{{z}_{}}\\right)\\mathbf{\\hat{j}_{}} + \\left(\\frac{\\partial}{\\partial \\mathbf{{z}_{}}} \\mathbf{{x}_{}}^{2} \\mathbf{{y}_{}} \\mathbf{{z}_{}}\\right)\\mathbf{\\hat{k}_{}}$"
      ],
      "text/plain": [
       "(Derivative(.x**2*.y*.z, .x))*.i + (Derivative(.x**2*.y*.z, .y))*.j + (Derivative(.x**2*.y*.z, .z))*.k"
      ]
     },
     "metadata": {},
     "output_type": "display_data"
    },
    {
     "name": "stdout",
     "output_type": "stream",
     "text": [
      "the gradient of f is\n",
      "\n"
     ]
    },
    {
     "data": {
      "text/latex": [
       "$\\displaystyle \\left(2 \\mathbf{{x}_{}} \\mathbf{{y}_{}} \\mathbf{{z}_{}}\\right)\\mathbf{\\hat{i}_{}} + \\left(\\mathbf{{x}_{}}^{2} \\mathbf{{z}_{}}\\right)\\mathbf{\\hat{j}_{}} + \\left(\\mathbf{{x}_{}}^{2} \\mathbf{{y}_{}}\\right)\\mathbf{\\hat{k}_{}}$"
      ],
      "text/plain": [
       "2*.x*.y*.z*.i + .x**2*.z*.j + .x**2*.y*.k"
      ]
     },
     "metadata": {},
     "output_type": "display_data"
    }
   ],
   "source": [
    "# from sympy.vector import *\n",
    "# from sympy import *\n",
    "# c= CoordSys3D('')\n",
    "# f=c.x**2*c.y*c.z\n",
    "# print(\"\\n the given scalar point function is\\n\")\n",
    "# display(f)\n",
    "# d=Del()\n",
    "# display(d(f))\n",
    "# w=gradient(f)\n",
    "# print(f\"\\n the gradient of {f} is \\n\")\n",
    "# display(w) \n",
    "from sympy.vector import *\n",
    "from sympy import *\n",
    "c=CoordSys3D('')\n",
    "f=c.x**2*c.y*c.z\n",
    "print(\"the give scalar point function is \\n\")\n",
    "display(f)\n",
    "d=Del()\n",
    "display(d(f))\n",
    "print(\"the gradient of f is\\n\")\n",
    "w=gradient(f)\n",
    "display(w)"
   ]
  },
  {
   "cell_type": "markdown",
   "id": "ee49ed5a",
   "metadata": {},
   "source": [
    "<h1>b) Write the Python code and Execute ::\n",
    " (4 D<sup>2</sup>- 4D -3)y = e<sup>2x</sup> </h1>"
   ]
  },
  {
   "cell_type": "code",
   "execution_count": 3,
   "id": "9a76a6d9",
   "metadata": {},
   "outputs": [
    {
     "data": {
      "text/latex": [
       "$\\displaystyle y{\\left(x \\right)} = C_{1} e^{- \\frac{x}{2}} + C_{2} e^{\\frac{3 x}{2}} + \\frac{e^{2 x}}{5}$"
      ],
      "text/plain": [
       "Eq(y(x), C1*exp(-x/2) + C2*exp(3*x/2) + exp(2*x)/5)"
      ]
     },
     "metadata": {},
     "output_type": "display_data"
    }
   ],
   "source": [
    "# from sympy import *\n",
    "# x=symbols('x')\n",
    "# y=Function('y')(x)\n",
    "# de=Eq(4*Derivative(y,x,2) - 4*Derivative(y,x) -3*y , exp(2*x))\n",
    "# gs=dsolve(de)\n",
    "# display(gs)\n",
    "from sympy import *\n",
    "x=symbols('x')\n",
    "y=Function('y')(x)\n",
    "eq=Eq(4*Derivative(y,x,2)-4*Derivative(y,x)-3*y,exp(2*x))\n",
    "w=dsolve(eq)\n",
    "display(w)"
   ]
  },
  {
   "cell_type": "markdown",
   "id": "150318bb",
   "metadata": {},
   "source": [
    "<h1> 2) a) Write the Python code and Execute the program to find gradient of 3x<sup>2</sup>\n",
    "yz </h1>"
   ]
  },
  {
   "cell_type": "code",
   "execution_count": 3,
   "id": "1ff454cf",
   "metadata": {},
   "outputs": [
    {
     "name": "stdout",
     "output_type": "stream",
     "text": [
      "\n",
      " The given scalar point function is \n",
      "\n"
     ]
    },
    {
     "data": {
      "text/latex": [
       "$\\displaystyle 3 \\mathbf{{x}_{}}^{2} \\mathbf{{y}_{}} \\mathbf{{z}_{}}$"
      ],
      "text/plain": [
       "3*.x**2*.y*.z"
      ]
     },
     "metadata": {},
     "output_type": "display_data"
    },
    {
     "data": {
      "text/latex": [
       "$\\displaystyle \\left(\\frac{\\partial}{\\partial \\mathbf{{x}_{}}} 3 \\mathbf{{x}_{}}^{2} \\mathbf{{y}_{}} \\mathbf{{z}_{}}\\right)\\mathbf{\\hat{i}_{}} + \\left(\\frac{\\partial}{\\partial \\mathbf{{y}_{}}} 3 \\mathbf{{x}_{}}^{2} \\mathbf{{y}_{}} \\mathbf{{z}_{}}\\right)\\mathbf{\\hat{j}_{}} + \\left(\\frac{\\partial}{\\partial \\mathbf{{z}_{}}} 3 \\mathbf{{x}_{}}^{2} \\mathbf{{y}_{}} \\mathbf{{z}_{}}\\right)\\mathbf{\\hat{k}_{}}$"
      ],
      "text/plain": [
       "(Derivative(3*.x**2*.y*.z, .x))*.i + (Derivative(3*.x**2*.y*.z, .y))*.j + (Derivative(3*.x**2*.y*.z, .z))*.k"
      ]
     },
     "metadata": {},
     "output_type": "display_data"
    },
    {
     "name": "stdout",
     "output_type": "stream",
     "text": [
      "\n",
      " Gradient of {f} is \n",
      "\n"
     ]
    },
    {
     "data": {
      "text/latex": [
       "$\\displaystyle \\left(6 \\mathbf{{x}_{}} \\mathbf{{y}_{}} \\mathbf{{z}_{}}\\right)\\mathbf{\\hat{i}_{}} + \\left(3 \\mathbf{{x}_{}}^{2} \\mathbf{{z}_{}}\\right)\\mathbf{\\hat{j}_{}} + \\left(3 \\mathbf{{x}_{}}^{2} \\mathbf{{y}_{}}\\right)\\mathbf{\\hat{k}_{}}$"
      ],
      "text/plain": [
       "6*.x*.y*.z*.i + 3*.x**2*.z*.j + 3*.x**2*.y*.k"
      ]
     },
     "metadata": {},
     "output_type": "display_data"
    }
   ],
   "source": [
    "# from sympy.vector import*\n",
    "# from sympy import *\n",
    "# c=CoordSys3D('')\n",
    "# f=3*c.x**2*c.y*c.z\n",
    "# print(\"\\n The given scalar point function is \\n\")\n",
    "# display(f)\n",
    "# d=Del()\n",
    "# display(d(f))\n",
    "# w=gradient(f)\n",
    "# print(\"\\n Gradient of {f} is \\n\")\n",
    "# display(w)\n",
    "from sympy.vector import *\n",
    "from sympy import *\n",
    "c=CoordSys3D('')\n",
    "f=3*c.x**2*c.y*c.z\n",
    "print(\"\\n the given scalar function is \\n\")\n",
    "d=Del()\n",
    "display(d(f))\n",
    "w=gradient(f)\n",
    "print(\"the gradient of f is \\n\")\n",
    "display(w)"
   ]
  },
  {
   "cell_type": "markdown",
   "id": "3a673a23",
   "metadata": {},
   "source": [
    "<h1> b) Write the Python code and Execute :: 𝒅\n",
    "<sup>2</sup>𝒚/\n",
    "𝒅𝒙\n",
    "<sup>2</sup>\n",
    "– 2 𝒅𝒚/\n",
    "𝒅𝒙+ y = cos3x </h1>"
   ]
  },
  {
   "cell_type": "code",
   "execution_count": 9,
   "id": "dd7b106a",
   "metadata": {},
   "outputs": [
    {
     "data": {
      "text/latex": [
       "$\\displaystyle y{\\left(x \\right)} = \\left(C_{1} + C_{2} x\\right) e^{x} - \\frac{3 \\sin{\\left(3 x \\right)}}{50} - \\frac{2 \\cos{\\left(3 x \\right)}}{25}$"
      ],
      "text/plain": [
       "Eq(y(x), (C1 + C2*x)*exp(x) - 3*sin(3*x)/50 - 2*cos(3*x)/25)"
      ]
     },
     "metadata": {},
     "output_type": "display_data"
    }
   ],
   "source": [
    "# from sympy import *\n",
    "# x=symbols('x')\n",
    "# y=Function('y')(x)\n",
    "# de=Eq(Derivative(y,x,2)-2*Derivative(y,x)+y, cos(2*x))\n",
    "# gs=dsolve(de)\n",
    "# display(gs)\n",
    "\n",
    "from sympy import *\n",
    "x=symbols(x)\n",
    "y=Function('y')(x)\n",
    "eq=Eq=(Derivative(y,x,2)-2*Derivative(y,x)+y,cos(3*x))\n",
    "p=dsolve(eq)\n",
    "display(p)"
   ]
  },
  {
   "cell_type": "markdown",
   "id": "c94d06b4",
   "metadata": {},
   "source": [
    "<h2>3) a) Write the Python code and Execute the program to find gradient of x<sup>2</sup>\n",
    "y\n",
    "<sup>3</sup>\n",
    "z\n",
    "<sup>4</sup></h2>"
   ]
  },
  {
   "cell_type": "code",
   "execution_count": 5,
   "id": "85a55e6c",
   "metadata": {},
   "outputs": [
    {
     "name": "stdout",
     "output_type": "stream",
     "text": [
      "\n",
      " The given scalar point function is \n",
      "\n"
     ]
    },
    {
     "data": {
      "text/latex": [
       "$\\displaystyle x^{2} y^{3} z^{4}$"
      ],
      "text/plain": [
       "x**2*y**3*z**4"
      ]
     },
     "metadata": {},
     "output_type": "display_data"
    },
    {
     "data": {
      "text/latex": [
       "$\\displaystyle \\mathbf{\\hat{0}}$"
      ],
      "text/plain": [
       "0"
      ]
     },
     "metadata": {},
     "output_type": "display_data"
    },
    {
     "name": "stdout",
     "output_type": "stream",
     "text": [
      "\n",
      " Gradient of {f} is \n",
      "\n"
     ]
    },
    {
     "data": {
      "text/latex": [
       "$\\displaystyle \\mathbf{\\hat{0}}$"
      ],
      "text/plain": [
       "0"
      ]
     },
     "metadata": {},
     "output_type": "display_data"
    }
   ],
   "source": [
    "from sympy.vector import*\n",
    "from sympy import *\n",
    "c=CoordSys3D('')\n",
    "f=c.x**2*c.y**3*c.z**4\n",
    "print(\"\\n The given scalar point function is \\n\")\n",
    "display(f)\n",
    "d=Del()\n",
    "display(d(f))\n",
    "w=gradient(f)\n",
    "print(\"\\n Gradient of {f} is \\n\")\n",
    "display(w)"
   ]
  },
  {
   "cell_type": "markdown",
   "id": "499269c8",
   "metadata": {},
   "source": [
    "<h2>b) Write the Python code and Execute :: 𝒅\n",
    "<sup>2</sup>𝒚/\n",
    "𝒅𝒙\n",
    "<sup>2</sup> + y = sin2x </h2>"
   ]
  },
  {
   "cell_type": "code",
   "execution_count": 6,
   "id": "4c0d19fb",
   "metadata": {},
   "outputs": [
    {
     "data": {
      "text/latex": [
       "$\\displaystyle y{\\left(x \\right)} = C_{1} \\sin{\\left(x \\right)} + C_{2} \\cos{\\left(x \\right)} - \\frac{\\sin{\\left(2 x \\right)}}{3}$"
      ],
      "text/plain": [
       "Eq(y(x), C1*sin(x) + C2*cos(x) - sin(2*x)/3)"
      ]
     },
     "metadata": {},
     "output_type": "display_data"
    }
   ],
   "source": [
    "from sympy import *\n",
    "x=symbols('x')\n",
    "y=Function('y')(x)\n",
    "de=Eq(Derivative(y,x,2)+y, sin(2*x))\n",
    "gs=dsolve(de)\n",
    "display(gs)"
   ]
  },
  {
   "cell_type": "markdown",
   "id": "13606c18",
   "metadata": {},
   "source": [
    "<h2>4) a)Write the Python code and Execute the program to find divergence of\n",
    "F⃗ = 2x<sup>2</sup>\n",
    "z î− xy\n",
    "<sup>2</sup>\n",
    "z ĵ+ 3yz\n",
    "<sup>2</sup> k </h2>"
   ]
  },
  {
   "cell_type": "code",
   "execution_count": 4,
   "id": "e0f481d6",
   "metadata": {},
   "outputs": [
    {
     "name": "stdout",
     "output_type": "stream",
     "text": [
      "the give vector point function is\n",
      "\n"
     ]
    },
    {
     "data": {
      "text/latex": [
       "$\\displaystyle \\left(2 \\mathbf{{x}_{}}^{2} \\mathbf{{z}_{}}\\right)\\mathbf{\\hat{i}_{}} + \\left(- \\mathbf{{x}_{}} \\mathbf{{y}_{}}^{2} \\mathbf{{z}_{}}\\right)\\mathbf{\\hat{j}_{}} + \\left(3 \\mathbf{{y}_{}} \\mathbf{{z}_{}}^{2}\\right)\\mathbf{\\hat{k}_{}}$"
      ],
      "text/plain": [
       "2*.x**2*.z*.i + (-.x*.y**2*.z)*.j + 3*.y*.z**2*.k"
      ]
     },
     "metadata": {},
     "output_type": "display_data"
    },
    {
     "data": {
      "text/latex": [
       "$\\displaystyle \\frac{\\partial}{\\partial \\mathbf{{x}_{}}} 2 \\mathbf{{x}_{}}^{2} \\mathbf{{z}_{}} + \\frac{\\partial}{\\partial \\mathbf{{z}_{}}} 3 \\mathbf{{y}_{}} \\mathbf{{z}_{}}^{2} + \\frac{\\partial}{\\partial \\mathbf{{y}_{}}} \\left(- \\mathbf{{x}_{}} \\mathbf{{y}_{}}^{2} \\mathbf{{z}_{}}\\right)$"
      ],
      "text/plain": [
       "Derivative(2*.x**2*.z, .x) + Derivative(3*.y*.z**2, .z) + Derivative(-.x*.y**2*.z, .y)"
      ]
     },
     "metadata": {},
     "output_type": "display_data"
    },
    {
     "name": "stdout",
     "output_type": "stream",
     "text": [
      "divergence of f is\n",
      "\n"
     ]
    },
    {
     "data": {
      "text/latex": [
       "$\\displaystyle - 2 \\mathbf{{x}_{}} \\mathbf{{y}_{}} \\mathbf{{z}_{}} + 4 \\mathbf{{x}_{}} \\mathbf{{z}_{}} + 6 \\mathbf{{y}_{}} \\mathbf{{z}_{}}$"
      ],
      "text/plain": [
       "-2*.x*.y*.z + 4*.x*.z + 6*.y*.z"
      ]
     },
     "metadata": {},
     "output_type": "display_data"
    }
   ],
   "source": [
    "# from sympy.vector import*\n",
    "# from sympy import *\n",
    "# c=CoordSys3D('')\n",
    "# f=2*c.x**2*c.z*c.i-c.x*c.y**2*c.z*c.j+3*c.y*c.z**2*c.k\n",
    "# print(\"\\n The given vector point function is \\n\")\n",
    "# display(f)\n",
    "# d=Del()\n",
    "# p=d.dot(f)\n",
    "# display(p)\n",
    "# w=divergence(f)\n",
    "# print(\"\\n Divergence of {f} is \\n\")\n",
    "# display(w)\n",
    "from sympy.vector import *\n",
    "from sympy import *\n",
    "c=CoordSys3D('')\n",
    "f=2*c.x**2*c.z*c.i-c.x*c.y**2*c.z*c.j+3*c.y*c.z**2*c.k\n",
    "print(\"the give vector point function is\\n\")\n",
    "display(f)\n",
    "d=Del()\n",
    "p=d.dot(f)\n",
    "display(p)\n",
    "print(\"divergence of f is\\n\")\n",
    "w=divergence(f)\n",
    "display(w)"
   ]
  },
  {
   "cell_type": "markdown",
   "id": "17849135",
   "metadata": {},
   "source": [
    "<h2>b) Write the Python code and Execute :: 𝒅\n",
    "<sup>2</sup>𝒚/\n",
    "𝒅𝒙\n",
    "<sup>2</sup> + 2 𝒅𝒚/\n",
    "𝒅𝒙+ y = x<sup>2</sup> +2x</h2>"
   ]
  },
  {
   "cell_type": "code",
   "execution_count": 10,
   "id": "ab27d549",
   "metadata": {},
   "outputs": [
    {
     "data": {
      "text/latex": [
       "$\\displaystyle y{\\left(x \\right)} = x^{2} - 2 x + \\left(C_{1} + C_{2} x\\right) e^{- x} + 2$"
      ],
      "text/plain": [
       "Eq(y(x), x**2 - 2*x + (C1 + C2*x)*exp(-x) + 2)"
      ]
     },
     "metadata": {},
     "output_type": "display_data"
    }
   ],
   "source": [
    "from sympy import *\n",
    "x=symbols('x')\n",
    "y=Function('y')(x)\n",
    "de=Eq(Derivative(y,x,2)+2*Derivative(y,x)+y, x**2+2*x)\n",
    "gs=dsolve(de)\n",
    "display(gs)"
   ]
  },
  {
   "cell_type": "markdown",
   "id": "a1b14d4e",
   "metadata": {},
   "source": [
    "<h2>5) a) Write the Python code and Execute the program to evaluate ∫<sup>6</sup><sub>0</sub>\n",
    "𝒅𝒙/\n",
    "(𝟏+𝒙)\n",
    "<sup>2</sup>\n",
    "using\n",
    "i) Trapezoidal rule ii) Simpson’s 1/3 rd rule iii) Simpson’s 3/8 rule </h2>"
   ]
  },
  {
   "cell_type": "code",
   "execution_count": 10,
   "id": "fec30200",
   "metadata": {},
   "outputs": [
    {
     "name": "stdout",
     "output_type": "stream",
     "text": [
      "1.0\n",
      "0.25\n",
      "0.1111\n",
      "0.0625\n",
      "0.04\n",
      "0.0278\n",
      "0.0204\n",
      "tz= 1.0016\n",
      "s13= 0.8946\n",
      "s38= 0.912\n"
     ]
    }
   ],
   "source": [
    "# from numpy import *\n",
    "# a,b,p,n=0,6,6,7\n",
    "# h=(b-a)/p\n",
    "# x=linspace(a,b,n)\n",
    "# f=(1/(1+x)**2)\n",
    "# for i in range(n):\n",
    "#     print(round(f[i],ndigits=4))\n",
    "# TR=round((h/2)*(f[0]+2*sum(f[1:n-1])+f[n-1]),ndigits=4)\n",
    "# S13=round((h/3)*((f[0]+f[n-1])+4*sum(f[1:n-1:2])+2*sum(f[2:n-1:2])), ndigits=4)\n",
    "# S38=round((3*h/8)*((f[0]+f[n-1])+2*sum(f[3:n-2:3])+3*sum(f[1:n:3]+(f[2:n-1:3]))),ndigits=4)\n",
    "# print(\"The required integral by Trapezoidal Rule is\",TR)\n",
    "# print(\"The required integral by Simpson’s 1/3 Rule is\",S13)\n",
    "# print(\"The required integral by Simpson’s 3/8 Rule is :\",S38) \n",
    "from numpy import *\n",
    "a,b,p,n=0,6,6,7\n",
    "h=(b-a)/p\n",
    "x=linspace(a,b,n)\n",
    "f=1/(1+x)**2\n",
    "for i in range(n):\n",
    "    print(round(f[i],ndigits=4))\n",
    "tz=round((h/2)*(f[0]+f[n-1]+2*sum(f[1:n-1])),ndigits=4)\n",
    "s13=round((h/3)*(f[0]+f[n-1]+2*sum(f[2:n-1:2])+4*sum(f[1:n-1:2])),ndigits=4)\n",
    "s38=round((3*h/8)*(f[0]+f[n-1]+2*sum(f[3:n-2:3])+3*sum(f[1:n:3]+(f[2:n-1:3]))),ndigits=4)\n",
    "print(\"tz=\",tz)\n",
    "print(\"s13=\",s13)\n",
    "print(\"s38=\",s38)"
   ]
  },
  {
   "cell_type": "markdown",
   "id": "9cf52bdc",
   "metadata": {},
   "source": [
    "<h2>b) Using Green’s theorem, Evaluate ∮<sub>c</sub> [(𝑥𝑦 + 𝑦\n",
    "<sup>2</sup>\n",
    ") 𝑑𝑥 + (𝑥\n",
    "<sup>2</sup>\n",
    ")𝑑𝑦]\n",
    "\n",
    "where C is the closed\n",
    "curve bounded by y = x and y = x\n",
    "<sup>2</sup></h2>"
   ]
  },
  {
   "cell_type": "code",
   "execution_count": 11,
   "id": "51c9ebad",
   "metadata": {},
   "outputs": [
    {
     "name": "stdout",
     "output_type": "stream",
     "text": [
      "I= -1/20\n"
     ]
    }
   ],
   "source": [
    "# # from sympy import *\n",
    "# # var('x,y')\n",
    "# # p=x*y + y**2\n",
    "# # q=x**2\n",
    "# # f=diff(q,x)-diff(p,y)\n",
    "# # soln=integrate(f,[y,x**2,x],[x,0,1])\n",
    "# # print(\"I=\",soln)\n",
    "\n",
    "from sympy import *\n",
    "var('x y')\n",
    "p=x*y+y**2\n",
    "q=x**2\n",
    "f=diff(q,x)-diff(p,y)\n",
    "soln=integrate(f,[y,x**2,x],[x,0,1])\n",
    "print(\"I=\",soln)\n"
   ]
  },
  {
   "cell_type": "markdown",
   "id": "6ed36d17",
   "metadata": {},
   "source": [
    "<h2>6) a) Write the Python code and Execute the program to find divergence of\n",
    "F⃗ = xyz î+ 3x\n",
    "<sup>2</sup>yz ĵ+ (xz\n",
    "<sup>2</sup> − y\n",
    "<sup>2</sup>\n",
    "z) k</h2>"
   ]
  },
  {
   "cell_type": "code",
   "execution_count": 14,
   "id": "a7ec691b",
   "metadata": {},
   "outputs": [
    {
     "name": "stdout",
     "output_type": "stream",
     "text": [
      "\n",
      " The given vector point function is \n",
      "\n"
     ]
    },
    {
     "data": {
      "text/latex": [
       "$\\displaystyle \\left(\\mathbf{{x}_{}} \\mathbf{{y}_{}} \\mathbf{{z}_{}}\\right)\\mathbf{\\hat{i}_{}} + \\left(3 \\mathbf{{y}_{}} \\mathbf{{z}_{}} x^{2}\\right)\\mathbf{\\hat{j}_{}} + \\left(\\mathbf{{x}_{}} \\mathbf{{z}_{}}^{2} - \\mathbf{{y}_{}}^{2} \\mathbf{{z}_{}}\\right)\\mathbf{\\hat{k}_{}}$"
      ],
      "text/plain": [
       ".x*.y*.z*.i + 3*.y*.z*x**2*.j + (.x*.z**2 - .y**2*.z)*.k"
      ]
     },
     "metadata": {},
     "output_type": "display_data"
    },
    {
     "data": {
      "text/latex": [
       "$\\displaystyle \\frac{\\partial}{\\partial \\mathbf{{x}_{}}} \\mathbf{{x}_{}} \\mathbf{{y}_{}} \\mathbf{{z}_{}} + \\frac{\\partial}{\\partial \\mathbf{{y}_{}}} 3 \\mathbf{{y}_{}} \\mathbf{{z}_{}} x^{2} + \\frac{\\partial}{\\partial \\mathbf{{z}_{}}} \\left(\\mathbf{{x}_{}} \\mathbf{{z}_{}}^{2} - \\mathbf{{y}_{}}^{2} \\mathbf{{z}_{}}\\right)$"
      ],
      "text/plain": [
       "Derivative(.x*.y*.z, .x) + Derivative(3*.y*.z*x**2, .y) + Derivative(.x*.z**2 - .y**2*.z, .z)"
      ]
     },
     "metadata": {},
     "output_type": "display_data"
    },
    {
     "name": "stdout",
     "output_type": "stream",
     "text": [
      "\n",
      " Divergence of {f} is \n",
      "\n"
     ]
    },
    {
     "data": {
      "text/latex": [
       "$\\displaystyle 2 \\mathbf{{x}_{}} \\mathbf{{z}_{}} - \\mathbf{{y}_{}}^{2} + \\mathbf{{y}_{}} \\mathbf{{z}_{}} + 3 \\mathbf{{z}_{}} x^{2}$"
      ],
      "text/plain": [
       "2*.x*.z - .y**2 + .y*.z + 3*.z*x**2"
      ]
     },
     "metadata": {},
     "output_type": "display_data"
    }
   ],
   "source": [
    "from sympy.vector import*\n",
    "from sympy import *\n",
    "c=CoordSys3D('')\n",
    "f=c.x*c.y*c.z*c.i+3*x**2*c.y*c.z*c.j+(c.x*c.z**2-c.y**2*c.z)*c.k\n",
    "print(\"\\n The given vector point function is \\n\")\n",
    "display(f)\n",
    "d=Del()\n",
    "p=d.dot(f)\n",
    "display(p)\n",
    "w=divergence(f)\n",
    "print(\"\\n Divergence of {f} is \\n\")\n",
    "display(w)"
   ]
  },
  {
   "cell_type": "markdown",
   "id": "1b57cd51",
   "metadata": {},
   "source": [
    "<h2>b) Using Green’s theorem, Evaluate ∮<sub>c</sub> [(3𝑥 + 4𝑦) 𝑑𝑥 + (2𝑥 − 3𝑦)𝑑𝑦]\n",
    "\n",
    "where C is the\n",
    "boundary of the circle x<sup>2</sup> + y<sup>2</sup> = 4\n",
    "</h2>"
   ]
  },
  {
   "cell_type": "code",
   "execution_count": 9,
   "id": "11a7798f",
   "metadata": {},
   "outputs": [
    {
     "name": "stdout",
     "output_type": "stream",
     "text": [
      "I= -8*pi\n"
     ]
    }
   ],
   "source": [
    "from sympy import *\n",
    "var('x,y')\n",
    "p=3*x+4*y\n",
    "q=2*x-3*y\n",
    "f=diff(q,x)-diff(p,y)\n",
    "soln=integrate(f,[x,-sqrt(4-y**2),sqrt(4-y**2)],[y,-2,2])\n",
    "print(\"I=\",soln)\n"
   ]
  },
  {
   "cell_type": "markdown",
   "id": "be67c241",
   "metadata": {},
   "source": [
    "<h2>7) a) Apply the Runge Kutta method to find the solution of 𝑑𝑦/\n",
    "𝑑𝑥\n",
    "= 1 + 𝑦/\n",
    "𝑥\n",
    " at y(2) taking\n",
    "h = 0.2. Given that y(1) = 2.</h2>"
   ]
  },
  {
   "cell_type": "code",
   "execution_count": 12,
   "id": "16178832",
   "metadata": {},
   "outputs": [
    {
     "name": "stdout",
     "output_type": "stream",
     "text": [
      "[2.   2.62 3.27 3.95 4.66 5.39]\n"
     ]
    }
   ],
   "source": [
    "# from sympy import *\n",
    "# import numpy as np\n",
    "# x,y=symbols(\"x y\")\n",
    "# g=1+(y/x)\n",
    "# x0,y0,h,xn=1,2,0.2,2\n",
    "# f=lambdify([x,y],g)\n",
    "# x1=x0+h\n",
    "# z=[y0]\n",
    "# while x1<=xn:\n",
    "#     k1=h*f(x0,y0)\n",
    "#     k2=h*f(x0+h/2,y0+k1/2)\n",
    "#     k3=h*f(x0+h/2,y0+k2/2)\n",
    "#     k4=h*f(x0+h,y0+k3)\n",
    "#     y1=y0+(1/6)*(k1+2*k2+2*k3+k4)\n",
    "#     z.append(y1)\n",
    "#     x0,y0=x1,y1\n",
    "#     x1+=h\n",
    "# print(np.round(z,2))\n",
    "\n",
    "from sympy import *\n",
    "import numpy as np\n",
    "x,y=symbols('x y')\n",
    "x0,y0,h,xn=1,2,0.2,2\n",
    "g=1+y/x\n",
    "f=lambdify([x,y],g)\n",
    "x1=x0+h\n",
    "z=[y0]\n",
    "while x1<=xn:\n",
    "    k1=h*f(x0,y0)\n",
    "    k2=h*f(x0+h/2,y0+k1/2)\n",
    "    k3=h*f(x0+h/2,y0+k2/2)\n",
    "    k4=h*f(x0+h,y0+k3)\n",
    "    y1=y0+(1/6)*(k1+2*k2+2*k3+k4)\n",
    "    z.append(y1)\n",
    "    x0,y0=x1,y1\n",
    "    x1+=h\n",
    "print(np.round(z,2))"
   ]
  },
  {
   "cell_type": "markdown",
   "id": "4c58cd4c",
   "metadata": {},
   "source": [
    "<h2>b) Write the Python code and Execute program to find curl \n",
    "of <br> F⃗ = x\n",
    "<sup>2</sup>yz î+ 2xy\n",
    "<sup>2</sup>\n",
    "z ĵ+ xyz\n",
    "<sup>2</sup> k̂</h2>\n"
   ]
  },
  {
   "cell_type": "code",
   "execution_count": 19,
   "id": "c7ee9ecb",
   "metadata": {},
   "outputs": [
    {
     "name": "stdout",
     "output_type": "stream",
     "text": [
      "the vector point function is\n",
      "\n"
     ]
    },
    {
     "data": {
      "text/latex": [
       "$\\displaystyle \\left(\\mathbf{{x}_{}}^{2} \\mathbf{{y}_{}} \\mathbf{{z}_{}}\\right)\\mathbf{\\hat{i}_{}} + \\left(2 \\mathbf{{x}_{}} \\mathbf{{y}_{}}^{2} \\mathbf{{z}_{}}\\right)\\mathbf{\\hat{j}_{}} + \\left(\\mathbf{{x}_{}} \\mathbf{{y}_{}} \\mathbf{{z}_{}}^{2}\\right)\\mathbf{\\hat{k}_{}}$"
      ],
      "text/plain": [
       ".x**2*.y*.z*.i + 2*.x*.y**2*.z*.j + .x*.y*.z**2*.k"
      ]
     },
     "metadata": {},
     "output_type": "display_data"
    },
    {
     "data": {
      "text/latex": [
       "$\\displaystyle \\left(\\frac{\\partial}{\\partial \\mathbf{{y}_{}}} \\mathbf{{x}_{}} \\mathbf{{y}_{}} \\mathbf{{z}_{}}^{2} - \\frac{\\partial}{\\partial \\mathbf{{z}_{}}} 2 \\mathbf{{x}_{}} \\mathbf{{y}_{}}^{2} \\mathbf{{z}_{}}\\right)\\mathbf{\\hat{i}_{}} + \\left(- \\frac{\\partial}{\\partial \\mathbf{{x}_{}}} \\mathbf{{x}_{}} \\mathbf{{y}_{}} \\mathbf{{z}_{}}^{2} + \\frac{\\partial}{\\partial \\mathbf{{z}_{}}} \\mathbf{{x}_{}}^{2} \\mathbf{{y}_{}} \\mathbf{{z}_{}}\\right)\\mathbf{\\hat{j}_{}} + \\left(\\frac{\\partial}{\\partial \\mathbf{{x}_{}}} 2 \\mathbf{{x}_{}} \\mathbf{{y}_{}}^{2} \\mathbf{{z}_{}} - \\frac{\\partial}{\\partial \\mathbf{{y}_{}}} \\mathbf{{x}_{}}^{2} \\mathbf{{y}_{}} \\mathbf{{z}_{}}\\right)\\mathbf{\\hat{k}_{}}$"
      ],
      "text/plain": [
       "(Derivative(.x*.y*.z**2, .y) - Derivative(2*.x*.y**2*.z, .z))*.i + (-Derivative(.x*.y*.z**2, .x) + Derivative(.x**2*.y*.z, .z))*.j + (Derivative(2*.x*.y**2*.z, .x) - Derivative(.x**2*.y*.z, .y))*.k"
      ]
     },
     "metadata": {},
     "output_type": "display_data"
    },
    {
     "name": "stdout",
     "output_type": "stream",
     "text": [
      "\n",
      " curl of f is \n",
      "\n"
     ]
    },
    {
     "data": {
      "text/latex": [
       "$\\displaystyle \\left(- 2 \\mathbf{{x}_{}} \\mathbf{{y}_{}}^{2} + \\mathbf{{x}_{}} \\mathbf{{z}_{}}^{2}\\right)\\mathbf{\\hat{i}_{}} + \\left(\\mathbf{{x}_{}}^{2} \\mathbf{{y}_{}} - \\mathbf{{y}_{}} \\mathbf{{z}_{}}^{2}\\right)\\mathbf{\\hat{j}_{}} + \\left(- \\mathbf{{x}_{}}^{2} \\mathbf{{z}_{}} + 2 \\mathbf{{y}_{}}^{2} \\mathbf{{z}_{}}\\right)\\mathbf{\\hat{k}_{}}$"
      ],
      "text/plain": [
       "(-2*.x*.y**2 + .x*.z**2)*.i + (.x**2*.y - .y*.z**2)*.j + (-.x**2*.z + 2*.y**2*.z)*.k"
      ]
     },
     "metadata": {},
     "output_type": "display_data"
    }
   ],
   "source": [
    "# from sympy.vector import*\n",
    "# from sympy import *\n",
    "# c=CoordSys3D('')\n",
    "# f=c.x**2*c.y*c.z*c.i+2*c.x*c.y**2*c.z*c.j+c.x*c.y*c.z**2*c.k\n",
    "# print(\"\\n The given vector point function is \\n\")\n",
    "# display(f)\n",
    "# d=Del()\n",
    "# p=d.cross(f)\n",
    "# display(p)\n",
    "# w=curl(f)\n",
    "# print(\"\\n Curl of {f} is \\n\")\n",
    "# display(w)\n",
    "\n",
    "from"
   ]
  },
  {
   "cell_type": "markdown",
   "id": "d086192d",
   "metadata": {},
   "source": [
    "<h2>8) a) Write the Python code and Execute the programto evaluate∫<sup>1</sup><sub>0</sub> √(𝟏 + 𝐱\n",
    "<sup>3</sup>)\n",
    " dx using\n",
    "i) Trapezoidal rule ii) Simpson’s 1/3 rd rule iii) Simpson’s 3/8 rule</h2>"
   ]
  },
  {
   "cell_type": "code",
   "execution_count": 22,
   "id": "72a2bc99",
   "metadata": {},
   "outputs": [
    {
     "name": "stdout",
     "output_type": "stream",
     "text": [
      "1.0\n",
      "1.0023\n",
      "1.0184\n",
      "1.0607\n",
      "1.1386\n",
      "1.2565\n",
      "1.4142\n",
      "the required intergral by trapezoidal rule is 1.1139\n",
      "the required intergral by simpson's 1/3 rule is 1.1114\n",
      "the required intergral by simpson's 3/8 rule is 1.1114\n"
     ]
    }
   ],
   "source": [
    "# from numpy import *\n",
    "# a,b,p,n=0,1,6,7\n",
    "# h=(b-a)/p\n",
    "# x=linspace(a,b,n)\n",
    "# f=sqrt(1+x**3)\n",
    "# for i in range(0,n):\n",
    "#     print(round(f[i],ndigits=4))\n",
    "#     TR=round((h/2)*(f[0]+2*sum(f[1:n-1])+f[n-1]),ndigits=4)\n",
    "#     S13=round((h/3)*((f[0]+f[n-1])+4*sum(f[1:n-1:2])+2*sum(f[2:n-1:2])), ndigits=4)\n",
    "#     S38=round((3*h/8)*((f[0]+f[n-1])+2*sum(f[3:n-2:3])+3*sum(f[1:n:3]+(f[2:n-1:3]))),ndigits=4)\n",
    "# print(\"The required integral by Trapezoidal Rule is\",TR)\n",
    "# print(\"The required integral by Simpson’s 1/3 Rule is\",S13)\n",
    "# print(\"The required integral by Simpson’s 3/8 Rule is :\",S38) \n"
   ]
  },
  {
   "cell_type": "markdown",
   "id": "8d6753b1",
   "metadata": {},
   "source": [
    "<h2>b) Write the Python code and Execute program to find curl of\n",
    "<br>F⃗ = xy\n",
    "<sup>2</sup>\n",
    "î+ 2x\n",
    "<sup>2</sup>yz ĵ− 3yz\n",
    "<sup>2</sup> k </h2>"
   ]
  },
  {
   "cell_type": "code",
   "execution_count": 22,
   "id": "4533ba95",
   "metadata": {},
   "outputs": [
    {
     "name": "stdout",
     "output_type": "stream",
     "text": [
      "\n",
      " The given vector point function is \n",
      "\n"
     ]
    },
    {
     "data": {
      "text/latex": [
       "$\\displaystyle \\left(\\mathbf{{x}_{}} \\mathbf{{y}_{}}^{2}\\right)\\mathbf{\\hat{i}_{}} + \\left(2 \\mathbf{{x}_{}}^{2} \\mathbf{{y}_{}} \\mathbf{{z}_{}}\\right)\\mathbf{\\hat{j}_{}} + \\left(- 3 \\mathbf{{y}_{}} \\mathbf{{z}_{}}^{2}\\right)\\mathbf{\\hat{k}_{}}$"
      ],
      "text/plain": [
       ".x*.y**2*.i + 2*.x**2*.y*.z*.j + (-3*.y*.z**2)*.k"
      ]
     },
     "metadata": {},
     "output_type": "display_data"
    },
    {
     "data": {
      "text/latex": [
       "$\\displaystyle \\left(\\frac{\\partial}{\\partial \\mathbf{{y}_{}}} \\left(- 3 \\mathbf{{y}_{}} \\mathbf{{z}_{}}^{2}\\right) - \\frac{\\partial}{\\partial \\mathbf{{z}_{}}} 2 \\mathbf{{x}_{}}^{2} \\mathbf{{y}_{}} \\mathbf{{z}_{}}\\right)\\mathbf{\\hat{i}_{}} + \\left(\\frac{\\partial}{\\partial \\mathbf{{z}_{}}} \\mathbf{{x}_{}} \\mathbf{{y}_{}}^{2} - \\frac{\\partial}{\\partial \\mathbf{{x}_{}}} \\left(- 3 \\mathbf{{y}_{}} \\mathbf{{z}_{}}^{2}\\right)\\right)\\mathbf{\\hat{j}_{}} + \\left(- \\frac{\\partial}{\\partial \\mathbf{{y}_{}}} \\mathbf{{x}_{}} \\mathbf{{y}_{}}^{2} + \\frac{\\partial}{\\partial \\mathbf{{x}_{}}} 2 \\mathbf{{x}_{}}^{2} \\mathbf{{y}_{}} \\mathbf{{z}_{}}\\right)\\mathbf{\\hat{k}_{}}$"
      ],
      "text/plain": [
       "(Derivative(-3*.y*.z**2, .y) - Derivative(2*.x**2*.y*.z, .z))*.i + (Derivative(.x*.y**2, .z) - Derivative(-3*.y*.z**2, .x))*.j + (-Derivative(.x*.y**2, .y) + Derivative(2*.x**2*.y*.z, .x))*.k"
      ]
     },
     "metadata": {},
     "output_type": "display_data"
    },
    {
     "name": "stdout",
     "output_type": "stream",
     "text": [
      "\n",
      " Curl of {f} is \n",
      "\n"
     ]
    },
    {
     "data": {
      "text/latex": [
       "$\\displaystyle \\left(- 2 \\mathbf{{x}_{}}^{2} \\mathbf{{y}_{}} - 3 \\mathbf{{z}_{}}^{2}\\right)\\mathbf{\\hat{i}_{}} + \\left(4 \\mathbf{{x}_{}} \\mathbf{{y}_{}} \\mathbf{{z}_{}} - 2 \\mathbf{{x}_{}} \\mathbf{{y}_{}}\\right)\\mathbf{\\hat{k}_{}}$"
      ],
      "text/plain": [
       "(-2*.x**2*.y - 3*.z**2)*.i + (4*.x*.y*.z - 2*.x*.y)*.k"
      ]
     },
     "metadata": {},
     "output_type": "display_data"
    }
   ],
   "source": [
    "from sympy.vector import*\n",
    "from sympy import *\n",
    "c=CoordSys3D('')\n",
    "f=c.x*c.y**2*c.i+2*c.x**2*c.y*c.z*c.j-3*c.y*c.z**2*c.k\n",
    "print(\"\\n The given vector point function is \\n\")\n",
    "display(f)\n",
    "d=Del()\n",
    "p=d.cross(f)\n",
    "display(p)\n",
    "w=curl(f)\n",
    "print(\"\\n Curl of {f} is \\n\")\n",
    "display(w)"
   ]
  },
  {
   "cell_type": "markdown",
   "id": "efaa5e93",
   "metadata": {},
   "source": [
    "<h2>9) a) Write the Python code and Execute the program to evaluate ∫<sup>6</sup><sub>0</sub>\n",
    "𝒅𝒙/\n",
    "𝟏+𝒙\n",
    "<sup>2</sup>\n",
    "\n",
    " using\n",
    "i) Trapezoidal rule ii) Simpson’s 1/3 rd rule iii) Simpson’s 3/8 rule</h2>"
   ]
  },
  {
   "cell_type": "code",
   "execution_count": 23,
   "id": "c5bce729",
   "metadata": {},
   "outputs": [
    {
     "name": "stdout",
     "output_type": "stream",
     "text": [
      "1.0\n",
      "0.5\n",
      "0.2\n",
      "0.1\n",
      "0.0588\n",
      "0.0385\n",
      "0.027\n",
      "The required integral by Trapezoidal Rule is 1.4108\n",
      "The required integral by Simpson’s 1/3 Rule is 1.3662\n",
      "The required integral by Simpson’s 3/8 Rule is : 1.3571\n"
     ]
    }
   ],
   "source": [
    "from numpy import *\n",
    "a,b,p,n=0,6,6,7\n",
    "h=(b-a)/p\n",
    "x=linspace(a,b,n)\n",
    "f=1/(1+x**2)\n",
    "for i in range(0,n):\n",
    "    print(round(f[i],ndigits=4))\n",
    "    TR=round((h/2)*(f[0]+2*sum(f[1:n-1])+f[n-1]),ndigits=4)\n",
    "    S13=round((h/3)*((f[0]+f[n-1])+4*sum(f[1:n-1:2])+2*sum(f[2:n-1:2])), ndigits=4)\n",
    "    S38=round((3*h/8)*((f[0]+f[n-1])+2*sum(f[3:n-2:3])+3*sum(f[1:n:3]+(f[2:n-1:3]))),ndigits=4)\n",
    "print(\"The required integral by Trapezoidal Rule is\",TR)\n",
    "print(\"The required integral by Simpson’s 1/3 Rule is\",S13)\n",
    "print(\"The required integral by Simpson’s 3/8 Rule is :\",S38) "
   ]
  },
  {
   "cell_type": "markdown",
   "id": "312ea5b9",
   "metadata": {},
   "source": [
    "# b) Solve the PDE, xp + yq = z, where z = f(x, y)"
   ]
  },
  {
   "cell_type": "code",
   "execution_count": 24,
   "id": "2e4b0bd7",
   "metadata": {},
   "outputs": [
    {
     "data": {
      "text/latex": [
       "$\\displaystyle x \\frac{\\partial}{\\partial x} f{\\left(x,y \\right)} + y \\frac{\\partial}{\\partial y} f{\\left(x,y \\right)} = f{\\left(x,y \\right)}$"
      ],
      "text/plain": [
       "Eq(x*Derivative(f(x, y), x) + y*Derivative(f(x, y), y), f(x, y))"
      ]
     },
     "metadata": {},
     "output_type": "display_data"
    },
    {
     "name": "stdout",
     "output_type": "stream",
     "text": [
      "\n",
      "\n"
     ]
    },
    {
     "data": {
      "text/latex": [
       "$\\displaystyle f{\\left(x,y \\right)} = x F{\\left(\\frac{y}{x} \\right)}$"
      ],
      "text/plain": [
       "Eq(f(x, y), x*F(y/x))"
      ]
     },
     "metadata": {},
     "output_type": "display_data"
    }
   ],
   "source": [
    "\n",
    "# from sympy . solvers .pde import *\n",
    "# from sympy import *\n",
    "# from sympy .abc import *\n",
    "# f = Function ('f')\n",
    "# z = f(x, y)\n",
    "# zx = z.diff (x)\n",
    "# zy = z.diff (y)\n",
    "# eq = Eq(x*zx+y*zy , z)\n",
    "# display (eq)\n",
    "# print (\"\\n\")\n",
    "# soln = pdsolve (eq ,z)\n",
    "# display( soln )\n",
    "\n",
    "from sympy.solvers.pde import *\n",
    "from sympy.abc import *\n",
    "from sympy import *\n",
    "f=Function('f')\n",
    "z=f(x,y)\n",
    "zx=z.diff(x)\n",
    "zy=z.diff(y)\n",
    "de=Eq(x*zx+y*zy,z)\n",
    "display(de)\n",
    "print(\"\\n\")\n",
    "soln=pdsolve(de)\n",
    "display(soln)"
   ]
  },
  {
   "cell_type": "markdown",
   "id": "20a37fba",
   "metadata": {},
   "source": [
    "<h2>10) a) Write the Python code and Execute the program to evaluate ∫<sup>1</sup><sub>0</sub>\n",
    "𝒅𝒙/\n",
    "(𝟏+𝒙)\n",
    " using\n",
    "i) Trapezoidal rule ii) Simpson’s 1/3 rd rule iii) Simpson’s 3/8 rule </h2>"
   ]
  },
  {
   "cell_type": "code",
   "execution_count": 28,
   "id": "21253b8b",
   "metadata": {},
   "outputs": [
    {
     "name": "stdout",
     "output_type": "stream",
     "text": [
      "1.0\n",
      "0.8571\n",
      "0.75\n",
      "0.6667\n",
      "0.6\n",
      "0.5455\n",
      "0.5\n",
      "The required integral by Trapezoidal Rule is 0.6949\n",
      "The required integral by Simpson’s 1/3 Rule is 0.6932\n",
      "The required integral by Simpson’s 3/8 Rule is : 0.6932\n"
     ]
    }
   ],
   "source": [
    "from numpy import *\n",
    "a,b,p,n=0,1,6,7\n",
    "h=(b-a)/p\n",
    "x=linspace(a,b,n)\n",
    "f=1/(1+x)\n",
    "for i in range(0,n):\n",
    "    print(round(f[i],ndigits=4))\n",
    "    TR=round((h/2)*(f[0]+2*sum(f[1:n-1])+f[n-1]),ndigits=4)\n",
    "    S13=round((h/3)*((f[0]+f[n-1])+4*sum(f[1:n-1:2])+2*sum(f[2:n-1:2])), ndigits=4)\n",
    "    S38=round((3*h/8)*((f[0]+f[n-1])+2*sum(f[3:n-2:3])+3*sum(f[1:n:3]+(f[2:n-1:3]))),ndigits=4)\n",
    "print(\"The required integral by Trapezoidal Rule is\",TR)\n",
    "print(\"The required integral by Simpson’s 1/3 Rule is\",S13)\n",
    "print(\"The required integral by Simpson’s 3/8 Rule is :\",S38) "
   ]
  },
  {
   "cell_type": "markdown",
   "id": "5d083c9e",
   "metadata": {},
   "source": [
    "<h2>b) Write the Python code and Execute the program to find gradient of 𝒙\n",
    "<sup>2</sup>𝑦 + z</h2>"
   ]
  },
  {
   "cell_type": "code",
   "execution_count": 29,
   "id": "80590d78",
   "metadata": {},
   "outputs": [
    {
     "name": "stdout",
     "output_type": "stream",
     "text": [
      "\n",
      " The given scalar point function is \n",
      "\n"
     ]
    },
    {
     "data": {
      "text/latex": [
       "$\\displaystyle \\mathbf{{x}_{}}^{2} \\mathbf{{y}_{}} + \\mathbf{{z}_{}}$"
      ],
      "text/plain": [
       ".x**2*.y + .z"
      ]
     },
     "metadata": {},
     "output_type": "display_data"
    },
    {
     "data": {
      "text/latex": [
       "$\\displaystyle \\left(\\frac{\\partial}{\\partial \\mathbf{{x}_{}}} \\left(\\mathbf{{x}_{}}^{2} \\mathbf{{y}_{}} + \\mathbf{{z}_{}}\\right)\\right)\\mathbf{\\hat{i}_{}} + \\left(\\frac{\\partial}{\\partial \\mathbf{{y}_{}}} \\left(\\mathbf{{x}_{}}^{2} \\mathbf{{y}_{}} + \\mathbf{{z}_{}}\\right)\\right)\\mathbf{\\hat{j}_{}} + \\left(\\frac{\\partial}{\\partial \\mathbf{{z}_{}}} \\left(\\mathbf{{x}_{}}^{2} \\mathbf{{y}_{}} + \\mathbf{{z}_{}}\\right)\\right)\\mathbf{\\hat{k}_{}}$"
      ],
      "text/plain": [
       "(Derivative(.x**2*.y + .z, .x))*.i + (Derivative(.x**2*.y + .z, .y))*.j + (Derivative(.x**2*.y + .z, .z))*.k"
      ]
     },
     "metadata": {},
     "output_type": "display_data"
    },
    {
     "name": "stdout",
     "output_type": "stream",
     "text": [
      "\n",
      " Gradient of {f} is \n",
      "\n"
     ]
    },
    {
     "data": {
      "text/latex": [
       "$\\displaystyle \\left(2 \\mathbf{{x}_{}} \\mathbf{{y}_{}}\\right)\\mathbf{\\hat{i}_{}} + \\left(\\mathbf{{x}_{}}^{2}\\right)\\mathbf{\\hat{j}_{}} + \\mathbf{\\hat{k}_{}}$"
      ],
      "text/plain": [
       "2*.x*.y*.i + .x**2*.j + .k"
      ]
     },
     "metadata": {},
     "output_type": "display_data"
    }
   ],
   "source": [
    "from sympy.vector import*\n",
    "from sympy import *\n",
    "c=CoordSys3D('')\n",
    "f=c.x**2*c.y+c.z\n",
    "print(\"\\n The given scalar point function is \\n\")\n",
    "display(f)\n",
    "d=Del()\n",
    "display(d(f))\n",
    "w=gradient(f)\n",
    "print(\"\\n Gradient of {f} is \\n\")\n",
    "display(w)"
   ]
  },
  {
   "cell_type": "code",
   "execution_count": null,
   "id": "4721ede6",
   "metadata": {},
   "outputs": [],
   "source": []
  }
 ],
 "metadata": {
  "kernelspec": {
   "display_name": "Python 3 (ipykernel)",
   "language": "python",
   "name": "python3"
  },
  "language_info": {
   "codemirror_mode": {
    "name": "ipython",
    "version": 3
   },
   "file_extension": ".py",
   "mimetype": "text/x-python",
   "name": "python",
   "nbconvert_exporter": "python",
   "pygments_lexer": "ipython3",
   "version": "3.11.2"
  }
 },
 "nbformat": 4,
 "nbformat_minor": 5
}
